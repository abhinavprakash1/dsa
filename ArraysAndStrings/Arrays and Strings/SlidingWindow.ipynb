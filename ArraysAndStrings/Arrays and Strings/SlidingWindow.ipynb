{
 "cells": [
  {
   "cell_type": "markdown",
   "id": "2c81fffa",
   "metadata": {},
   "source": [
    "Q1. Given an array of positive integers nums and an integer k, find the length of the longest subarray whose sum is less than or equal to k. "
   ]
  },
  {
   "cell_type": "code",
   "execution_count": 2,
   "id": "3e4c5c28",
   "metadata": {},
   "outputs": [
    {
     "name": "stdout",
     "output_type": "stream",
     "text": [
      "3\n"
     ]
    }
   ],
   "source": [
    "from typing import List \n",
    "class Solution:\n",
    "    def longestSubarray(self, nums : List[int], k : int) -> int:\n",
    "        left = curr = answer = 0\n",
    "        for right in range(len(nums)):\n",
    "            curr += nums[right]\n",
    "            while curr > k:\n",
    "                curr -= nums[left]\n",
    "                left += 1\n",
    "                \n",
    "        answer = max(answer, right - left + 1)\n",
    "        return answer\n",
    "                    \n",
    "nums = [3, 1, 2, 7, 4, 2, 1, 1, 5]\n",
    "k = 8\n",
    "obj = Solution()\n",
    "print(obj.longestSubarray(nums, k))\n"
   ]
  }
 ],
 "metadata": {
  "kernelspec": {
   "display_name": "Python 3 (ipykernel)",
   "language": "python",
   "name": "python3"
  },
  "language_info": {
   "codemirror_mode": {
    "name": "ipython",
    "version": 3
   },
   "file_extension": ".py",
   "mimetype": "text/x-python",
   "name": "python",
   "nbconvert_exporter": "python",
   "pygments_lexer": "ipython3",
   "version": "3.9.12"
  }
 },
 "nbformat": 4,
 "nbformat_minor": 5
}
