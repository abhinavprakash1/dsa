{
 "cells": [
  {
   "cell_type": "markdown",
   "id": "e6191814-f2de-41f7-8838-d21747ef033c",
   "metadata": {},
   "source": [
    "#### Subarrays"
   ]
  },
  {
   "cell_type": "markdown",
   "id": "2c81fffa",
   "metadata": {},
   "source": [
    "Q1. Given an array of positive integers nums and an integer k, find the length of the longest subarray whose sum is less than or equal to k. "
   ]
  },
  {
   "cell_type": "code",
   "execution_count": 2,
   "id": "3e4c5c28",
   "metadata": {},
   "outputs": [
    {
     "name": "stdout",
     "output_type": "stream",
     "text": [
      "3\n"
     ]
    }
   ],
   "source": [
    "from typing import List \n",
    "class Solution:\n",
    "    def longestSubarray(self, nums : List[int], k : int) -> int:\n",
    "        left = curr = answer = 0\n",
    "        for right in range(len(nums)):\n",
    "            curr += nums[right]\n",
    "            while curr > k:\n",
    "                curr -= nums[left]\n",
    "                left += 1\n",
    "                \n",
    "        answer = max(answer, right - left + 1)\n",
    "        return answer\n",
    "                    \n",
    "nums = [3, 1, 2, 7, 4, 2, 1, 1, 5]\n",
    "k = 8\n",
    "obj = Solution()\n",
    "print(obj.longestSubarray(nums, k))\n"
   ]
  },
  {
   "cell_type": "markdown",
   "id": "ea3237a1-12b2-4b12-99a4-6bd267b35156",
   "metadata": {},
   "source": [
    "Q2. You are given a binary string s (a string containing only \"0\" and \"1\"). You may choose up to one \"0\" and flip it to a \"1\". What is the length of the longest substring achievable that contains only \"1\"?\n",
    "\n",
    "For example, given s = \"1101100111\", the answer is 5. If you perform the flip at index 2, the string becomes 1111100111."
   ]
  },
  {
   "cell_type": "code",
   "execution_count": 26,
   "id": "a9b1b684-d42b-44eb-8d41-e8d42d40e780",
   "metadata": {},
   "outputs": [
    {
     "name": "stdout",
     "output_type": "stream",
     "text": [
      "5\n"
     ]
    }
   ],
   "source": [
    "# Code\n",
    "class Solution:\n",
    "    def longestSubarray(self, s : List[int]) -> int:\n",
    "        left = countZero = ans = 0\n",
    "        for right in range(len(s)):\n",
    "            if s[right] == \"0\":\n",
    "                countZero += 1\n",
    "                while countZero > 1:\n",
    "                    if s[left] == \"0\":\n",
    "                        countZero -= 1\n",
    "                    left += 1\n",
    "            ans = max(ans, right - left + 1)\n",
    "        return ans\n",
    "                        \n",
    "                    \n",
    "s = \"1101100111\"\n",
    "obj = Solution()\n",
    "print(obj.longestSubarray(s))\n"
   ]
  },
  {
   "cell_type": "markdown",
   "id": "0a349028-69ac-4237-b2bd-f4b3743fc069",
   "metadata": {},
   "source": [
    "#### Number of subarrays"
   ]
  },
  {
   "cell_type": "markdown",
   "id": "8b5c70aa-9406-48fc-910b-45abb159456c",
   "metadata": {},
   "source": [
    "Q3. Given an array of positive integers nums and an integer k, return the number of subarrays where the product of all the elements in the subarray is strictly less than k.\n",
    "\n",
    "For example, given the input nums = [10, 5, 2, 6], k = 100, the answer is 8. The subarrays with products less than k are:\n",
    "\n",
    "[10], [5], [2], [6], [10, 5], [5, 2], [2, 6], [5, 2, 6]"
   ]
  },
  {
   "cell_type": "code",
   "execution_count": 3,
   "id": "ac92cbb0-051d-4f48-9def-5bde37e3919f",
   "metadata": {},
   "outputs": [
    {
     "name": "stdout",
     "output_type": "stream",
     "text": [
      "8\n"
     ]
    }
   ],
   "source": [
    "# code\n",
    "from typing import List\n",
    "class Solution():\n",
    "    def subarrayCount(self, nums : List[int], k: int) -> int:\n",
    "        left = count = 0\n",
    "        prod = 1\n",
    "        for right in range(len(nums)):\n",
    "            prod *= nums[right]\n",
    "            while prod >= k:\n",
    "                prod //= nums[left]\n",
    "                left += 1\n",
    "            count = count + (right - left + 1)\n",
    "        return count\n",
    "                \n",
    "nums = [10, 5, 2, 6]\n",
    "k = 100\n",
    "obj = Solution()\n",
    "print(obj.subarrayCount(nums, k))"
   ]
  },
  {
   "cell_type": "markdown",
   "id": "3bf5f227-c63d-4194-9948-c99a503be1d0",
   "metadata": {},
   "source": [
    "#### Fixed window size"
   ]
  },
  {
   "cell_type": "markdown",
   "id": "c4ec5c4d-3866-4e69-b2ac-b05b5d0c6a67",
   "metadata": {},
   "source": [
    "Q4. Given an integer array nums and an integer k, find the sum of the subarray with the largest sum whose length is k."
   ]
  },
  {
   "cell_type": "code",
   "execution_count": 20,
   "id": "243a869e-64f0-4642-abd8-df17cc6dc33a",
   "metadata": {},
   "outputs": [
    {
     "name": "stdout",
     "output_type": "stream",
     "text": [
      "18\n"
     ]
    }
   ],
   "source": [
    "# Code\n",
    "from typing import List\n",
    "class Solution():\n",
    "    def subarrayWithLargestSum(self, nums: List[int], k: int) -> int:\n",
    "        i = curr = 0\n",
    "        for i in range(k):\n",
    "            curr += nums[i]\n",
    "\n",
    "        ans = curr\n",
    "        for i in range(k, len(nums)):\n",
    "            curr = curr + nums[i] - nums[i - k]\n",
    "            ans = max(ans, curr)\n",
    "        return ans\n",
    "\n",
    "nums = [3, -1, 4, 12, -8, 5, 6]\n",
    "k = 4\n",
    "obj = Solution()\n",
    "print(obj.subarrayWithLargestSum(nums, k))\n",
    "        \n"
   ]
  },
  {
   "cell_type": "markdown",
   "id": "281345e5",
   "metadata": {},
   "source": [
    "Q5. You are given an integer array nums consisting of n elements, and an integer k.\n",
    "\n",
    "Find a contiguous subarray whose length is equal to k that has the maximum average value and return this value. Any answer with a calculation error less than 10-5 will be accepted.\n",
    "\n",
    "Input: nums = [1,12,-5,-6,50,3], k = 4\n",
    "Output: 12.75000\n",
    "Explanation: Maximum average is (12 - 5 - 6 + 50) / 4 = 51 / 4 = 12.75"
   ]
  },
  {
   "cell_type": "code",
   "execution_count": 19,
   "id": "460c72ee",
   "metadata": {},
   "outputs": [
    {
     "name": "stdout",
     "output_type": "stream",
     "text": [
      "12.75\n"
     ]
    }
   ],
   "source": [
    "from typing import List\n",
    "class Solution():\n",
    "    def findSubarray(self, nums : List[int], k : int) -> int:\n",
    "        i = curr = 0\n",
    "        for i in range(k):\n",
    "            curr += nums[i]\n",
    "        ans = curr    \n",
    "        for i in range(k, len(nums), 1):\n",
    "            curr += nums[i]\n",
    "            curr -= nums[i - k]\n",
    "            \n",
    "            ans = max(ans, curr)\n",
    "            \n",
    "        return(ans / k)\n",
    "        \n",
    "nums = [1,12,-5,-6,50,3]\n",
    "k = 4\n",
    "\n",
    "obj = Solution()\n",
    "print(obj.findSubarray(nums, k))"
   ]
  },
  {
   "cell_type": "markdown",
   "id": "a2ca156b",
   "metadata": {},
   "source": [
    "Q6. Given a binary array nums and an integer k, return the maximum number of consecutive 1's in the array if you can flip at most k 0's.\n",
    "\n",
    "Input: nums = [1,1,1,0,0,0,1,1,1,1,0], k = 2\n",
    "Output: 6\n",
    "Explanation: [1,1,1,0,0,1,1,1,1,1,1]\n",
    "Bolded numbers were flipped from 0 to 1. The longest subarray is underlined."
   ]
  },
  {
   "cell_type": "code",
   "execution_count": 22,
   "id": "9963f3f4",
   "metadata": {},
   "outputs": [
    {
     "name": "stdout",
     "output_type": "stream",
     "text": [
      "6\n"
     ]
    }
   ],
   "source": [
    "from typing import List\n",
    "class Solution():\n",
    "    def longestSubarray(self, nums : List[int], k : int) -> int:\n",
    "        left = right = curr = ans = 0\n",
    "        for right in range(len(nums)):\n",
    "            if nums[right] == 0:\n",
    "                curr += 1\n",
    "            while curr > k:\n",
    "                if nums[left] == 0:\n",
    "                    curr -= 1\n",
    "                left += 1\n",
    "            ans = max(ans, right - left + 1)        \n",
    "        return ans\n",
    "\n",
    "nums = [1,1,1,0,0,0,1,1,1,1,0]\n",
    "k = 2    \n",
    "obj = Solution()\n",
    "print(obj.longestSubarray(nums, k))\n",
    "            "
   ]
  },
  {
   "cell_type": "code",
   "execution_count": null,
   "id": "f50aa84f",
   "metadata": {},
   "outputs": [],
   "source": []
  }
 ],
 "metadata": {
  "kernelspec": {
   "display_name": "Python 3 (ipykernel)",
   "language": "python",
   "name": "python3"
  },
  "language_info": {
   "codemirror_mode": {
    "name": "ipython",
    "version": 3
   },
   "file_extension": ".py",
   "mimetype": "text/x-python",
   "name": "python",
   "nbconvert_exporter": "python",
   "pygments_lexer": "ipython3",
   "version": "3.9.12"
  }
 },
 "nbformat": 4,
 "nbformat_minor": 5
}
