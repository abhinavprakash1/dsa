{
 "cells": [
  {
   "cell_type": "markdown",
   "id": "f6a99999",
   "metadata": {},
   "source": [
    "Q1. Given a string s, return true if it is a palindrome, false otherwise."
   ]
  },
  {
   "cell_type": "code",
   "execution_count": null,
   "id": "82946f2a",
   "metadata": {},
   "outputs": [
    {
     "name": "stdout",
     "output_type": "stream",
     "text": [
      "True\n"
     ]
    }
   ],
   "source": [
    "# correct solution\n",
    "def check_if_palindrome(s):\n",
    "    left = 0\n",
    "    right = len(s) - 1\n",
    "\n",
    "    while left < right:\n",
    "        if s[left] != s[right]:\n",
    "            return False\n",
    "        else:\n",
    "            left += 1\n",
    "            right -= 1\n",
    "    return True\n",
    "\n",
    "print(check_if_palindrome(\"ofllfo\"))\n"
   ]
  },
  {
   "cell_type": "markdown",
   "id": "56fdbfc3",
   "metadata": {},
   "source": [
    "Q2. Given a sorted array of unique integers and a target integer, return true if there exists a pair of numbers that sum to target, false otherwise. This problem is similar to Two Sum. (In Two Sum, the input is not sorted).\n",
    "For example, given nums = [1, 2, 4, 6, 8, 9, 14, 15] and target = 13, return true because 4 + 9 = 13."
   ]
  },
  {
   "cell_type": "code",
   "execution_count": null,
   "id": "fd449a20",
   "metadata": {},
   "outputs": [
    {
     "name": "stdout",
     "output_type": "stream",
     "text": [
      "True\n"
     ]
    }
   ],
   "source": [
    "# my solution\n",
    "def sum_check(arr, n):\n",
    "    # i, j = 0\n",
    "    for i in range(len(arr)):\n",
    "        if i > n:\n",
    "            return False\n",
    "        for j in range(len(arr)):\n",
    "            if i + j == n:\n",
    "                return True\n",
    "            elif i + j > n:\n",
    "                break\n",
    "    return False\n",
    "arr1 = [1, 2, 4, 6, 8, 9, 14, 15]      \n",
    "n = 6\n",
    "print(sum_check(arr1, n))  \n",
    "\n",
    " \n",
    "        "
   ]
  },
  {
   "cell_type": "code",
   "execution_count": 14,
   "id": "43251823",
   "metadata": {},
   "outputs": [
    {
     "name": "stdout",
     "output_type": "stream",
     "text": [
      "False\n"
     ]
    }
   ],
   "source": [
    "# correct solution\n",
    "def sum_check(arr, n):\n",
    "    left = 0\n",
    "    right = len(arr) - 1\n",
    "    while left < right:\n",
    "        if arr[left] + arr[right] == n:\n",
    "            return True\n",
    "        elif arr[left] + arr[right] > n:\n",
    "            right -= 1\n",
    "        elif arr[left] + arr[right] < n:\n",
    "            left += 1\n",
    "    return False\n",
    "\n",
    "arr1 = [1, 2, 4, 6, 8, 9, 14, 15]      \n",
    "n = 30\n",
    "print(sum_check(arr1, n))  "
   ]
  },
  {
   "cell_type": "markdown",
   "id": "d30ba6a4",
   "metadata": {},
   "source": [
    "Q3: Given two sorted integer arrays arr1 and arr2, return a new array that combines both of them and is also sorted."
   ]
  },
  {
   "cell_type": "code",
   "execution_count": null,
   "id": "22a70fa8",
   "metadata": {},
   "outputs": [
    {
     "name": "stdout",
     "output_type": "stream",
     "text": [
      "[1, 3, 7, 8, 12, 21, 22, 31, 31, 45, 53, 59, 70, 90]\n"
     ]
    }
   ],
   "source": [
    "def combine_array(arr1, arr2):\n",
    "    i = j = 0\n",
    "    ans  = []\n",
    "    while i < len(arr1) and j < len(arr2):\n",
    "        if arr1[i] < arr2[j]:\n",
    "            ans.append(arr1[i])\n",
    "            i += 1\n",
    "        else:\n",
    "            ans.append(arr2[j])\n",
    "            j += 1\n",
    "        \n",
    "    while i < len(arr1):\n",
    "        ans.append(arr1[i])\n",
    "        i += 1\n",
    "\n",
    "    while j < len(arr2):\n",
    "        ans.append(arr2[j])\n",
    "        j += 1\n",
    "\n",
    "    return ans\n",
    "\n",
    "arr1 = [3, 7, 12, 31, 53, 59, 70]\n",
    "arr2 = [1, 8, 21, 22, 31, 45, 90]\n",
    "print(combine_array(arr1, arr2))\n"
   ]
  },
  {
   "cell_type": "markdown",
   "id": "ffdf13d4",
   "metadata": {},
   "source": [
    "Q4: Given two strings s and t, return true if s is a subsequence of t, or false otherwise.\n",
    "\n",
    "A subsequence of a string is a sequence of characters that can be obtained by deleting some (or none) of the characters from the original string, while maintaining the relative order of the remaining characters. For example, \"ace\" is a subsequence of \"abcde\" while \"aec\" is not."
   ]
  },
  {
   "cell_type": "code",
   "execution_count": 17,
   "id": "5edc2636",
   "metadata": {},
   "outputs": [
    {
     "name": "stdout",
     "output_type": "stream",
     "text": [
      "False\n"
     ]
    }
   ],
   "source": [
    "def is_subsequence(s, t):\n",
    "    i = j = 0\n",
    "    while i < len(s) and j < len(t):\n",
    "        if s[i] == t[j]:\n",
    "            i += 1\n",
    "        j += 1\n",
    "\n",
    "    return i == len(s)\n",
    "\n",
    "s = 'aec'\n",
    "t = 'abcde'\n",
    "print(is_subsequence(s, t))"
   ]
  }
 ],
 "metadata": {
  "kernelspec": {
   "display_name": "Python 3",
   "language": "python",
   "name": "python3"
  },
  "language_info": {
   "codemirror_mode": {
    "name": "ipython",
    "version": 3
   },
   "file_extension": ".py",
   "mimetype": "text/x-python",
   "name": "python",
   "nbconvert_exporter": "python",
   "pygments_lexer": "ipython3",
   "version": "3.13.0"
  }
 },
 "nbformat": 4,
 "nbformat_minor": 5
}
